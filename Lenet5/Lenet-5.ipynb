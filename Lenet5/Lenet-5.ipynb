{
 "cells": [
  {
   "cell_type": "code",
   "execution_count": null,
   "metadata": {},
   "outputs": [],
   "source": [
    "import struct\n",
    "\n",
    "import numpy as np \n",
    "import pandas as pd\n",
    "import torch\n",
    "#import torchvision \n",
    "import torch.nn as nn\n",
    "import torch.optim as optim\n",
    "import torch.nn.functional as F \n",
    "\n",
    "from torch.utils.data import Dataset, DataLoader\n"
   ]
  },
  {
   "cell_type": "markdown",
   "metadata": {},
   "source": [
    "### 处理mnist数据集"
   ]
  },
  {
   "cell_type": "code",
   "execution_count": null,
   "metadata": {},
   "outputs": [],
   "source": [
    "def process_mnist_ubyte(dataset_path):\n",
    "    content = open(dataset_path, \"rb\").read()\n",
    "    dtype = content[2]\n",
    "    dimensions = content[3]\n",
    "    shape = []\n",
    "    for dim_idx in range(dimensions):\n",
    "        chunk = content[4*(1+dim_idx): 4*(2+dim_idx)]\n",
    "        shape.append(struct.unpack('>I', chunk)[0])\n",
    "        \n",
    "    data = np.array(list(content[(dim_idx+2)*4:]))\n",
    "    data = data.reshape(*shape)\n",
    "\n",
    "    return data\n",
    "        "
   ]
  },
  {
   "cell_type": "code",
   "execution_count": null,
   "metadata": {},
   "outputs": [],
   "source": [
    "# 测试读取test数据文件\n",
    "dataset_path = \"../dataset/mnist/t10k-images-idx3-ubyte\"\n",
    "dataset = process_mnist_ubyte(dataset_path)\n",
    "print(\"test datasets shape is: {}\".format(dataset.shape))\n",
    "\n",
    "# 测试读取test标签文件\n",
    "dataset_path = \"../dataset/mnist/t10k-labels-idx1-ubyte\"\n",
    "dataset = process_mnist_ubyte(dataset_path)\n",
    "print(\"test labels shape is: {}\".format(dataset.shape))"
   ]
  },
  {
   "cell_type": "markdown",
   "metadata": {},
   "source": [
    "### 定义MnistDataSet数据集类"
   ]
  },
  {
   "cell_type": "code",
   "execution_count": null,
   "metadata": {},
   "outputs": [],
   "source": [
    "class Mnist(Dataset):\n",
    "    def __init__(self):\n",
    "        super(Mnist, self).__init__()\n",
    "        train_data_path = \"../dataset/mnist/train-images-idx3-ubyte\"\n",
    "        train_label_path = \"../dataset/mnist/train-labels-idx1-ubyte\"\n",
    "        # 因为minist每一个像素都是无符号8位数据， 所以使用ByteTensor存储\n",
    "        # / 255.0把数据压缩到 （0-1）\n",
    "        train_data = process_mnist_ubyte(train_data_path) / 255.0\n",
    "        train_data = np.expand_dims(train_data, 1)\n",
    "        self.train_data = torch.FloatTensor(train_data)\n",
    "        self.train_label = torch.LongTensor(process_mnist_ubyte(train_label_path))\n",
    "        \n",
    "    def __len__(self):\n",
    "        return self.train_data.shape[0]\n",
    "    \n",
    "    def __getitem__(self, idx):\n",
    "        return self.train_data[idx], self.train_label[idx]"
   ]
  },
  {
   "cell_type": "markdown",
   "metadata": {},
   "source": [
    "### 定义Lenet5网络模型"
   ]
  },
  {
   "cell_type": "code",
   "execution_count": null,
   "metadata": {},
   "outputs": [],
   "source": [
    "class Lenet5(nn.Module):\n",
    "    def __init__(self):\n",
    "        super(Lenet5, self).__init__()\n",
    "        self.conv1 = nn.Conv2d(1, 6, kernel_size=3)\n",
    "        self.pool = nn.AvgPool2d(kernel_size=2)\n",
    "        self.conv2 = nn.Conv2d(6, 16, kernel_size=3)\n",
    "        self.fc = nn.Linear(1936, 10)\n",
    "        \n",
    "    def forward(self, x):\n",
    "        # 1x28x28 -> 6x26X26\n",
    "        x = self.conv1(x)\n",
    "        # 6x26x26 -> 6*13*13\n",
    "        x = self.pool(x)\n",
    "        x = F.relu(x)\n",
    "        # 6x13x13 -> 16x11x11\n",
    "        x = self.conv2(x)        \n",
    "        x = x.view(-1, 1936)\n",
    "        x = self.fc(x)\n",
    "        \n",
    "        return x \n",
    "        "
   ]
  },
  {
   "cell_type": "code",
   "execution_count": null,
   "metadata": {},
   "outputs": [],
   "source": [
    "net = Lenet5()\n",
    "dataset = Mnist()\n",
    "criterion = nn.CrossEntropyLoss()\n",
    "optim = optim.SGD(params=net.parameters(), lr=0.01)"
   ]
  },
  {
   "cell_type": "code",
   "execution_count": null,
   "metadata": {},
   "outputs": [],
   "source": [
    "epochs = 100\n",
    "data = DataLoader(dataset, batch_size=256, shuffle=True)\n",
    "\n",
    "for epoch in range(1, epochs+1):\n",
    "    for batch, mini_data in enumerate(data):\n",
    "        x, y = mini_data\n",
    "        output = net(x)\n",
    "        optim.zero_grad()\n",
    "        loss = criterion(output, y)\n",
    "        loss.backward()\n",
    "        optim.step()\n",
    "    if epoch % 2 == 0:\n",
    "        print(\"epoch {}, loss: {}\".format(epoch, loss))"
   ]
  },
  {
   "cell_type": "markdown",
   "metadata": {},
   "source": [
    "### 测试模型性能"
   ]
  },
  {
   "cell_type": "code",
   "execution_count": null,
   "metadata": {},
   "outputs": [],
   "source": [
    "dataset_path = \"../dataset/mnist/t10k-images-idx3-ubyte\"\n",
    "test_data = process_mnist_ubyte(dataset_path) / 255.0\n",
    "test_data = np.expand_dims(test_data, 1)\n",
    "test_data = torch.FloatTensor(test_data)\n",
    "print(\"test datasets shape is: {}\".format(test_data.shape))\n",
    "\n",
    "# 测试读取test标签文件\n",
    "dataset_path = \"../dataset/mnist/t10k-labels-idx1-ubyte\"\n",
    "test_label = process_mnist_ubyte(dataset_path)\n",
    "#test_label = F.one_hot(test_label, 10)\n",
    "print(\"test labels shape is: {}\".format(test_label.shape)) "
   ]
  },
  {
   "cell_type": "code",
   "execution_count": null,
   "metadata": {},
   "outputs": [],
   "source": [
    "y_predict = net(test_data)\n",
    "values, indices = torch.max(y_predict, dim=1)\n",
    "indices = indices.numpy()"
   ]
  },
  {
   "cell_type": "code",
   "execution_count": null,
   "metadata": {},
   "outputs": [],
   "source": [
    "correct_ratio = np.sum(indices == test_label) / float(len(test_label))\n",
    "correct_ratio"
   ]
  }
 ],
 "metadata": {
  "kernelspec": {
   "display_name": "pytorch",
   "language": "python",
   "name": "pytorch"
  },
  "language_info": {
   "codemirror_mode": {
    "name": "ipython",
    "version": 3
   },
   "file_extension": ".py",
   "mimetype": "text/x-python",
   "name": "python",
   "nbconvert_exporter": "python",
   "pygments_lexer": "ipython3",
   "version": "3.8.5"
  }
 },
 "nbformat": 4,
 "nbformat_minor": 4
}
